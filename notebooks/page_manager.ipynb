{
 "cells": [
  {
   "cell_type": "markdown",
   "metadata": {},
   "source": [
    "# Building a Multi-Page FastHTML Site with Live Notebook Refresh\n",
    "\n",
    "Let's build a simple multi-page website with FastHTML. We'll start with a home page that has a navigation button to an about page.\n",
    "\n",
    "First, we create the necessary imports and boilerplate:"
   ]
  },
  {
   "cell_type": "code",
   "execution_count": 226,
   "metadata": {},
   "outputs": [],
   "source": [
    "from dataclasses import dataclass, field\n",
    "from functools import wraps\n",
    "from typing import Callable, Any, List, Dict\n",
    "from fasthtml.common import *\n",
    "from fasthtml.jupyter import *\n",
    "from IPython.display import display, HTML \n",
    "\n",
    "def requires_shell(func: Callable) -> Callable[..., Optional[Any]]:\n",
    "    \"\"\"Decorator to ensure shell is available\"\"\"\n",
    "    @wraps(func)\n",
    "    def wrapper(self: NotebookContext, *args, **kwargs) -> Optional[Any]:\n",
    "        return None if not self._shell else func(self, *args, **kwargs)\n",
    "    return wrapper\n",
    "\n",
    "@dataclass\n",
    "class NotebookContext:\n",
    "    \"\"\"Manages IPython/Jupyter notebook context and variable tracking\"\"\"\n",
    "    pages: List['Page'] = field(default_factory=list)\n",
    "    _shell: Any = field(init=False, default=None)\n",
    "    \n",
    "    def __post_init__(self) -> None:\n",
    "        \"\"\"Initialize IPython shell connection\"\"\"\n",
    "        from IPython import get_ipython\n",
    "        self._shell = get_ipython()    \n",
    "    \n",
    "    def register_page(self, page: 'Page') -> None:\n",
    "        \"\"\"Register a page for variable tracking\"\"\"\n",
    "        self.pages.append(page)\n",
    "    \n",
    "    @requires_shell\n",
    "    def auto_update_cell(self, _=None) -> None:\n",
    "        \"\"\"Update tracked variables that changed in last cell execution\"\"\"\n",
    "        for page in self.pages:\n",
    "            self._check_page_variables(page)\n",
    "    \n",
    "    def _check_page_variables(self, page: 'Page') -> None:\n",
    "        \"\"\"Check for changes in a page's tracked variables\"\"\"\n",
    "        # Look for refs of type 'var'\n",
    "        var_refs = {\n",
    "            name: ref['elem'] \n",
    "            for name, ref in page.refs.items() \n",
    "            if ref['type'] == 'var'\n",
    "        }\n",
    "        \n",
    "        for var_name in list(var_refs.keys()):\n",
    "            if var_name not in self._shell.user_ns:\n",
    "                continue\n",
    "                \n",
    "            new_value = self._shell.user_ns[var_name]\n",
    "            old_value = var_refs[var_name]\n",
    "            \n",
    "            if new_value is not old_value:\n",
    "                page.update_element(new_value, var_name)\n",
    "    \n",
    "    @requires_shell\n",
    "    def get_variable_name(self, value: Any) -> str | None:\n",
    "        \"\"\"Find variable name in notebook namespace\"\"\"\n",
    "        user_vars = {\n",
    "            name: val \n",
    "            for name, val in self._shell.user_ns.items() \n",
    "            if not name.startswith('_')\n",
    "        }\n",
    "        \n",
    "        return next(\n",
    "            (name for name, val in user_vars.items() if val is value), \n",
    "            None\n",
    "        )\n",
    "    \n",
    "    @requires_shell\n",
    "    def register_callback(self, callback: Callable) -> None:\n",
    "        \"\"\"Register a post-cell execution callback\"\"\"\n",
    "        self._shell.events.register('post_run_cell', callback)        \n",
    "    \n",
    "    @requires_shell\n",
    "    def unregister_callback(self, callback: Callable) -> None:\n",
    "        \"\"\"Unregister a post-cell execution callback\"\"\"\n",
    "        self._shell.events.unregister('post_run_cell', callback)        \n",
    "    \n",
    "@dataclass\n",
    "class Page:\n",
    "    client: Any \n",
    "    context: NotebookContext\n",
    "    name: str = \"\"\n",
    "    elements: List = field(default_factory=list)\n",
    "    refs: Dict[str, Dict[str, Any]] = field(default_factory=dict)\n",
    "    active: bool = True\n",
    "    dirty: bool = False\n",
    "\n",
    "    def _update_element_at(self, elem: Any, idx: int) -> None:\n",
    "        \"\"\"Update element at specific index and its references\"\"\"\n",
    "        self.elements[idx] = elem\n",
    "        \n",
    "        # Update any existing refs pointing to this index\n",
    "        for key, ref in list(self.refs.items()):\n",
    "            if ref['index'] == idx:\n",
    "                ref['elem'] = elem\n",
    "\n",
    "    def _handle_element(self, elem: Any) -> None:\n",
    "        \"\"\"Add or update a single element\"\"\"\n",
    "        elem_id = getattr(elem, 'id', None)\n",
    "        var_name = self.context.get_variable_name(elem)\n",
    "        \n",
    "        # Find existing index from refs\n",
    "        idx = next(\n",
    "            (ref['index'] \n",
    "             for k in [elem_id, var_name] \n",
    "             if k and k in self.refs \n",
    "             and (ref := self.refs[k])),\n",
    "            None\n",
    "        )\n",
    "        \n",
    "        if idx is not None:\n",
    "            self._update_element_at(elem, idx)\n",
    "        else:\n",
    "            idx = len(self.elements)\n",
    "            self.elements.append(elem)\n",
    "                    \n",
    "        for key, type_ in [(var_name, 'var'), (elem_id, 'id')]:\n",
    "            if key:\n",
    "                self.refs[key] = {'type': type_, 'index': idx, 'elem': elem}\n",
    "        \n",
    "        self.dirty = True\n",
    "\n",
    "    def add(self, *elements: Any) -> 'Page':\n",
    "        \"\"\"Add or update elements\"\"\"\n",
    "        for elem in elements:\n",
    "            self._handle_element(elem)\n",
    "        return self.update()\n",
    "\n",
    "    def update_element(self, elem: Any, var_name: str | None = None) -> None:\n",
    "        \"\"\"Update or remove element by variable name\"\"\"\n",
    "        if var_name is None:\n",
    "            var_name = self.context.get_variable_name(elem)\n",
    "        \n",
    "        if not var_name:\n",
    "            return\n",
    "            \n",
    "        if elem is None:\n",
    "            self.remove(var_name)\n",
    "        else:\n",
    "            self._handle_element(elem)\n",
    "            self.update()\n",
    "\n",
    "    def remove(self, *ref_keys: str) -> 'Page':\n",
    "        \"\"\"Remove elements by reference keys\"\"\"\n",
    "        removed_indices = []\n",
    "        \n",
    "        for key in ref_keys:\n",
    "            if ref := self.refs.get(key):\n",
    "                removed_indices.append(ref['index'])\n",
    "                del self.refs[key]\n",
    "        \n",
    "        # Remove elements in reverse order to maintain correct indices\n",
    "        for idx in sorted(removed_indices, reverse=True):\n",
    "            self.elements.pop(idx)\n",
    "            # Update remaining refs\n",
    "            for ref in self.refs.values():\n",
    "                if ref['index'] > idx:\n",
    "                    ref['index'] -= 1\n",
    "        \n",
    "        if removed_indices:\n",
    "            self.dirty = True\n",
    "            \n",
    "        return self.update()\n",
    "\n",
    "    def update(self) -> 'Page':\n",
    "        \"\"\"Update page content if active and dirty\"\"\"\n",
    "        if self.active and self.dirty:\n",
    "            self.client.set(*self.elements)\n",
    "            self.dirty = False\n",
    "        return self\n",
    "\n",
    "    def clear(self) -> 'Page':\n",
    "        \"\"\"Clear all elements from the page\"\"\"\n",
    "        self.elements.clear()\n",
    "        self.refs.clear()\n",
    "        self.dirty = True\n",
    "        return self.update()\n",
    "    \n",
    "    def get_html(self) -> str:\n",
    "        \"\"\"Get HTML representation of current page\"\"\"\n",
    "        if not self.elements:\n",
    "            return \"\"\n",
    "        from fasthtml.common import to_xml\n",
    "        html = \"\\n\".join(to_xml(elem) for elem in self.elements)\n",
    "        print(html)\n",
    "\n",
    "    def __repr__(self) -> str:\n",
    "        route_name = self.name or \"home\"\n",
    "        url = f\"http://localhost:8000/{self.name}\"\n",
    "        return f\"Page(route='{route_name}', elements={len(self.elements)}, url='{url}')\"\n",
    "    \n",
    "@dataclass\n",
    "class PageManager:\n",
    "    \"\"\"Manages FastHTML pages and websocket connections\"\"\"\n",
    "    exts: str = \"ws\"\n",
    "    pages: Dict[str, Page] = field(default_factory=dict)\n",
    "    _context: NotebookContext = field(init=False)\n",
    "    _app: Any = field(init=False)\n",
    "    _server: Any = field(init=False)\n",
    "    _callback_registered: bool = field(init=False, default=False)\n",
    "    \n",
    "    def __post_init__(self) -> None:\n",
    "        \"\"\"Initialize FastHTML app and notebook context\"\"\"\n",
    "        # Setup FastHTML\n",
    "        self._app = FastHTML(exts=self.exts)\n",
    "        self._server = JupyUvi(self._app)\n",
    "        setup_ws(self._app)\n",
    "        \n",
    "        # Setup notebook context\n",
    "        self._context = NotebookContext()\n",
    "        self._callback_registered = self._context.register_callback(\n",
    "            self._context.auto_update_cell\n",
    "        )\n",
    "    \n",
    "    def create_page(self, route: str = \"\", frame: bool = False) -> Page:\n",
    "        \"\"\"Create a new page at the specified route\"\"\"\n",
    "        client = ws_client(self._app, route, frame=frame, link=False)\n",
    "        \n",
    "        # Create and register page\n",
    "        page = Page(client, self._context, route)\n",
    "        self.pages[route] = page\n",
    "        self._context.register_page(page)\n",
    "        \n",
    "        # Show page link\n",
    "        self._display_page_link(route)\n",
    "        return page\n",
    "    \n",
    "    def _display_page_link(self, route: str) -> None:\n",
    "        \"\"\"Display clickable link to page\"\"\"\n",
    "        route_name = route or \"home\"\n",
    "        url = f\"http://localhost:8000/{route}\"\n",
    "        display(HTML(f'<a href=\"{url}\" target=\"_blank\">View {route_name} page</a>'))\n",
    "    \n",
    "    def update_all(self) -> None:\n",
    "        \"\"\"Update all active pages that have changes\"\"\"\n",
    "        for page in self.pages.values():\n",
    "            if page.active and page.dirty:\n",
    "                page.update()\n",
    "    \n",
    "    def stop(self) -> None:\n",
    "        \"\"\"Clean up manager resources\"\"\"\n",
    "        if self._callback_registered:\n",
    "            self._context.unregister_callback(self._context.auto_update_cell)\n",
    "            self._callback_registered = False\n",
    "        if hasattr(self, '_server'):\n",
    "            self._server.stop()\n",
    "    \n",
    "    def __del__(self) -> None:\n",
    "        \"\"\"Ensure cleanup on deletion\"\"\"\n",
    "        self.stop()\n",
    "    \n",
    "    def activate_route(self, route: str) -> None:\n",
    "        \"\"\"Enable auto-updates for a route\"\"\"\n",
    "        if page := self.pages.get(route):\n",
    "            page.active = True\n",
    "    \n",
    "    def deactivate_route(self, route: str) -> None:\n",
    "        \"\"\"Disable auto-updates for a route\"\"\"\n",
    "        if page := self.pages.get(route):\n",
    "            page.active = False"
   ]
  },
  {
   "cell_type": "markdown",
   "metadata": {},
   "source": [
    "## Setting Up Our Pages\n",
    "\n",
    "The `PageManager` class handles:\n",
    "- Creating and managing multiple pages\n",
    "- Automatic updates when we modify content\n",
    "- WebSocket connections for live refresh\n",
    "- Server cleanup when we're done\n",
    "\n",
    "When we create a page with `create_page()`:\n",
    "- An empty route `\"\"` creates the index/home page at `localhost:8000/`\n",
    "- Any other route like `\"about\"` creates a page at `localhost:8000/about`\n",
    "\n",
    "Let's create our home page and add some initial content:"
   ]
  },
  {
   "cell_type": "code",
   "execution_count": 227,
   "metadata": {},
   "outputs": [
    {
     "data": {
      "text/html": [
       "\n",
       "<script>\n",
       "document.body.addEventListener('htmx:configRequest', (event) => {\n",
       "    if(event.detail.path.includes('://')) return;\n",
       "    htmx.config.selfRequestsOnly=false;\n",
       "    event.detail.path = `${location.protocol}//${location.hostname}:8000${event.detail.path}`;\n",
       "});\n",
       "</script>"
      ],
      "text/plain": [
       "<IPython.core.display.HTML object>"
      ]
     },
     "metadata": {},
     "output_type": "display_data"
    },
    {
     "data": {
      "text/html": [
       "<a href=\"http://localhost:8000/\" target=\"_blank\">View home page</a>"
      ],
      "text/plain": [
       "<IPython.core.display.HTML object>"
      ]
     },
     "metadata": {},
     "output_type": "display_data"
    },
    {
     "data": {
      "text/plain": [
       "Page(route='home', elements=3, url='http://localhost:8000/')"
      ]
     },
     "execution_count": 227,
     "metadata": {},
     "output_type": "execute_result"
    }
   ],
   "source": [
    "manager = PageManager()\n",
    "\n",
    "home = manager.create_page(\"\") # index route\n",
    "\n",
    "home.add(\n",
    "    H1(\"Welcome!\"),\n",
    "    P(\"This is a multi-page FastHTML site\"),\n",
    "    Button(\"Learn More About Me\")\n",
    ")"
   ]
  },
  {
   "cell_type": "markdown",
   "metadata": {},
   "source": [
    "We get a link to view the page in the browser when creating a page. As well a custom string representation of the page that shows the route and number of elements.\n",
    "\n",
    "The button currently doesn't do anything. Let's fix that. 🤗\n",
    "\n",
    "## Adding Navigation Between Pages\n",
    "\n",
    "let's create an about page and add navigation between our pages. We'll:\n",
    "1. Create a new page for the about route\n",
    "2. Update our home page button content to include navigation\n",
    "3. Add content to the about page with a return link back to home\n",
    "\n",
    "Note: When using `clear().add()`, we're explicitly removing all content before adding new elements."
   ]
  },
  {
   "cell_type": "code",
   "execution_count": 228,
   "metadata": {},
   "outputs": [
    {
     "data": {
      "text/html": [
       "<a href=\"http://localhost:8000/about\" target=\"_blank\">View about page</a>"
      ],
      "text/plain": [
       "<IPython.core.display.HTML object>"
      ]
     },
     "metadata": {},
     "output_type": "display_data"
    },
    {
     "data": {
      "text/plain": [
       "Page(route='about', elements=3, url='http://localhost:8000/about')"
      ]
     },
     "execution_count": 228,
     "metadata": {},
     "output_type": "execute_result"
    }
   ],
   "source": [
    "about = manager.create_page(\"about\")\n",
    "\n",
    "# Update home page with navigation\n",
    "home.clear().add(\n",
    "    H1(\"Welcome!\"),\n",
    "    P(\"This is a multi-page FastHTML site\"),\n",
    "    Button(\"Learn More About Me\", hx_get=\"/about\", hx_target=\"body\")\n",
    ")\n",
    "\n",
    "# Add content to about page\n",
    "about.add(\n",
    "    H1(\"About Me\"),\n",
    "    P(\"I enjoy using FastHTML and HTMX.\"),\n",
    "    Button(\"Back to Home\", hx_get=\"/\", hx_target=\"body\")\n",
    ")"
   ]
  },
  {
   "cell_type": "markdown",
   "metadata": {},
   "source": [
    "## Dynamic Content Updates\n",
    "\n",
    "FastHTML with PageManager supports two approaches for live content updates:\n",
    "\n",
    "1. **Variable Tracking**: Keep a reference to an element and update it\n",
    "2. **ID-Based Updates**: Add elements with IDs and update them by referencing the same ID\n",
    "\n",
    "Both methods will automatically refresh the page content without needing a browser reload."
   ]
  },
  {
   "cell_type": "code",
   "execution_count": 229,
   "metadata": {},
   "outputs": [
    {
     "data": {
      "text/plain": [
       "Page(route='about', elements=4, url='http://localhost:8000/about')"
      ]
     },
     "execution_count": 229,
     "metadata": {},
     "output_type": "execute_result"
    }
   ],
   "source": [
    "# Approach 1: Variable tracking\n",
    "content = P(\"Initial content\")\n",
    "about.add(content)"
   ]
  },
  {
   "cell_type": "code",
   "execution_count": 230,
   "metadata": {},
   "outputs": [],
   "source": [
    "# Update the variable:\n",
    "# our PageManager will automatically track and update elements assigned to variables\n",
    "content = P(\"Content updated via variable tracking!\")"
   ]
  },
  {
   "cell_type": "code",
   "execution_count": 231,
   "metadata": {},
   "outputs": [
    {
     "data": {
      "text/plain": [
       "Page(route='about', elements=6, url='http://localhost:8000/about')"
      ]
     },
     "execution_count": 231,
     "metadata": {},
     "output_type": "execute_result"
    }
   ],
   "source": [
    "# Approach 2: ID-based updates\n",
    "# First, add elements with unique IDs\n",
    "about.add(\n",
    "    P(\"Initial content with ID\", id=\"dynamic-content\"),\n",
    "    Button(\"Click me!\", id=\"action-button\")\n",
    ")"
   ]
  },
  {
   "cell_type": "code",
   "execution_count": 232,
   "metadata": {},
   "outputs": [
    {
     "data": {
      "text/plain": [
       "Page(route='about', elements=6, url='http://localhost:8000/about')"
      ]
     },
     "execution_count": 232,
     "metadata": {},
     "output_type": "execute_result"
    }
   ],
   "source": [
    "# Update element by referencing the same ID\n",
    "# This will replace the existing element while maintaining its position\n",
    "about.add(\n",
    "    P(\"Updated content with ID\", id=\"dynamic-content\")\n",
    ")"
   ]
  },
  {
   "cell_type": "code",
   "execution_count": 223,
   "metadata": {},
   "outputs": [],
   "source": [
    "# Setting a tracked variable to None or \"\" removes it from the page\n",
    "content = None"
   ]
  },
  {
   "cell_type": "code",
   "execution_count": 233,
   "metadata": {},
   "outputs": [
    {
     "data": {
      "text/plain": [
       "Page(route='about', elements=5, url='http://localhost:8000/about')"
      ]
     },
     "execution_count": 233,
     "metadata": {},
     "output_type": "execute_result"
    }
   ],
   "source": [
    "# Remove elements by their ID\n",
    "about.remove(\"dynamic-content\")"
   ]
  },
  {
   "cell_type": "code",
   "execution_count": 234,
   "metadata": {},
   "outputs": [
    {
     "name": "stdout",
     "output_type": "stream",
     "text": [
      "<h1>About Me</h1>\n",
      "\n",
      "<p>I enjoy using FastHTML and HTMX.</p>\n",
      "\n",
      "<button hx-get=\"/\" hx-target=\"body\">Back to Home</button>\n",
      "<p>Content updated via variable tracking!</p>\n",
      "\n",
      "<button id=\"action-button\" name=\"action-button\">Click me!</button>\n"
     ]
    }
   ],
   "source": [
    "# Get current HTML representation of the page\n",
    "# Useful for debugging or verification\n",
    "about.get_html()"
   ]
  },
  {
   "cell_type": "code",
   "execution_count": 240,
   "metadata": {},
   "outputs": [
    {
     "data": {
      "text/plain": [
       "Page(route='about', elements=6, url='http://localhost:8000/about')"
      ]
     },
     "execution_count": 240,
     "metadata": {},
     "output_type": "execute_result"
    }
   ],
   "source": [
    "# Summary: Dynamic Content Updates\n",
    "# 1. Variable tracking\n",
    "content = P(\"Initial content\")\n",
    "about.add(content)\n",
    "content = P(\"Updated content - watch it change!\")  # Auto-updates!\n",
    "\n",
    "# 2. ID-based updates\n",
    "about.add(\n",
    "    P(\"Initial content with ID\", id=\"dynamic-content\"),\n",
    "    Button(\"Click me!\", id=\"action-button\")\n",
    ")\n",
    "about.add(P(\"Updated content with ID\", id=\"dynamic-content\"))"
   ]
  },
  {
   "cell_type": "code",
   "execution_count": 244,
   "metadata": {},
   "outputs": [],
   "source": [
    "# Example: Controlling Page Updates\n",
    "# Stop auto-updates for about page\n",
    "# manager.deactivate_route(\"about\")  \n",
    "# content = P(\"This won't auto-update\")\n",
    "# about.add(content)\n",
    "\n",
    "# Re-enable auto-updates\n",
    "# manager.activate_route(\"about\")    \n",
    "# content = P(\"This will auto-update again!\")"
   ]
  },
  {
   "cell_type": "code",
   "execution_count": 225,
   "metadata": {},
   "outputs": [],
   "source": [
    "# Cleanup of port/resources\n",
    "manager.stop()"
   ]
  },
  {
   "cell_type": "markdown",
   "metadata": {},
   "source": [
    "1. **Auto-Updates**: Pages automatically update when tracked variables change. You can control this with:\n",
    "   - `manager.deactivate_route()` to pause updates\n",
    "   - `manager.activate_route()` to resume updates\n",
    "\n",
    "2. **Cleanup**: Always call `manager.stop()` when you're done to:\n",
    "   - Free the port (8000)\n",
    "   - Unregister notebook callbacks\n",
    "   - Release server resources\n",
    "\n",
    "3. **Best Practices**:\n",
    "   - Use variable tracking for simple updates\n",
    "   - Use ID-based updates for more complex element management\n",
    "   - Keep pages active unless you specifically need to pause updates"
   ]
  }
 ],
 "metadata": {
  "kernelspec": {
   "display_name": ".venv",
   "language": "python",
   "name": "python3"
  },
  "language_info": {
   "codemirror_mode": {
    "name": "ipython",
    "version": 3
   },
   "file_extension": ".py",
   "mimetype": "text/x-python",
   "name": "python",
   "nbconvert_exporter": "python",
   "pygments_lexer": "ipython3",
   "version": "3.11.10"
  }
 },
 "nbformat": 4,
 "nbformat_minor": 2
}
